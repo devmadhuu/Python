{
 "cells": [
  {
   "cell_type": "code",
   "execution_count": 25,
   "metadata": {},
   "outputs": [],
   "source": [
    "# # name@\n",
    "# # name_\n",
    "# # name$\n",
    "class test:\n",
    "    def sum(self):\n",
    "        return 10+6\n",
    "# Class"
   ]
  },
  {
   "cell_type": "code",
   "execution_count": 26,
   "metadata": {},
   "outputs": [
    {
     "output_type": "execute_result",
     "data": {
      "text/plain": [
       "16"
      ]
     },
     "metadata": {},
     "execution_count": 26
    }
   ],
   "source": [
    "test1 = test()\n",
    "test1.sum()"
   ]
  },
  {
   "cell_type": "code",
   "execution_count": 27,
   "metadata": {},
   "outputs": [
    {
     "output_type": "stream",
     "name": "stdout",
     "text": [
      "jgjhgjh <class 'str'>\n10 <class 'int'>\n10.2 <class 'float'>\n(3+4j) <class 'complex'>\nreal: 3.0\nimaginery:  4.0\nHello World Devesh\n"
     ]
    }
   ],
   "source": [
    "str1='''jgjhgjh'''\n",
    "n1=10\n",
    "n2=10.2\n",
    "complextype = 3+4j\n",
    "print (str1, type(str1))\n",
    "print(n1, type(n1))\n",
    "print(n2, type(n2))\n",
    "print(complextype, type(complextype))\n",
    "print('real:', complextype.real)\n",
    "print('imaginery: ', complextype.imag)\n",
    "print(\"Hello World {}\".format(\"Devesh\"))"
   ]
  },
  {
   "cell_type": "code",
   "execution_count": 28,
   "metadata": {},
   "outputs": [
    {
     "output_type": "stream",
     "name": "stdout",
     "text": [
      "True\nTrue\nFalse\nTrue\nFalse\n"
     ]
    }
   ],
   "source": [
    "print(isinstance(n1, int))\n",
    "print(isinstance(n2, float))\n",
    "print(isinstance(n2, complex))\n",
    "print(isinstance(complextype, complex))\n",
    "print(isinstance(print, int))"
   ]
  },
  {
   "cell_type": "code",
   "execution_count": 29,
   "metadata": {},
   "outputs": [],
   "source": [
    "newstr = 'this is python\\'s class'"
   ]
  },
  {
   "cell_type": "code",
   "execution_count": 30,
   "metadata": {},
   "outputs": [
    {
     "output_type": "stream",
     "name": "stdout",
     "text": [
      "this is python's class\n"
     ]
    }
   ],
   "source": [
    "print(newstr)"
   ]
  },
  {
   "cell_type": "code",
   "execution_count": 31,
   "metadata": {},
   "outputs": [
    {
     "output_type": "stream",
     "name": "stdout",
     "text": [
      "\"new quotes\"\n"
     ]
    }
   ],
   "source": [
    "quotestr = '\"new quotes\"'\n",
    "print(quotestr)"
   ]
  },
  {
   "cell_type": "code",
   "execution_count": 32,
   "metadata": {},
   "outputs": [
    {
     "output_type": "stream",
     "name": "stdout",
     "text": [
      "this is first line \nthis is 2nd line\n"
     ]
    }
   ],
   "source": [
    "print('this is first line \\nthis is 2nd line')"
   ]
  },
  {
   "cell_type": "code",
   "execution_count": 33,
   "metadata": {},
   "outputs": [
    {
     "output_type": "stream",
     "name": "stdout",
     "text": [
      "slash\\\n"
     ]
    }
   ],
   "source": [
    "print('slash\\\\')"
   ]
  },
  {
   "cell_type": "code",
   "execution_count": 34,
   "metadata": {},
   "outputs": [
    {
     "output_type": "stream",
     "name": "stdout",
     "text": [
      "6\n"
     ]
    }
   ],
   "source": [
    "print(sum([1,2,3]))"
   ]
  },
  {
   "cell_type": "code",
   "execution_count": 35,
   "metadata": {},
   "outputs": [
    {
     "output_type": "stream",
     "name": "stdout",
     "text": [
      "True\n"
     ]
    }
   ],
   "source": [
    "print(isinstance(sum([1,2,3]), int))"
   ]
  },
  {
   "cell_type": "code",
   "execution_count": 36,
   "metadata": {},
   "outputs": [
    {
     "output_type": "stream",
     "name": "stdout",
     "text": [
      "d\nd\n"
     ]
    }
   ],
   "source": [
    "str5 = \"Hello World\"\n",
    "print(str5[-1])\n",
    "print(str5[len(str5) - 1])"
   ]
  },
  {
   "cell_type": "code",
   "execution_count": 37,
   "metadata": {},
   "outputs": [
    {
     "output_type": "stream",
     "name": "stdout",
     "text": [
      "Hello\nHello\n"
     ]
    }
   ],
   "source": [
    "print(str5[0:5])\n",
    "print(str5[:5])"
   ]
  },
  {
   "cell_type": "code",
   "execution_count": 38,
   "metadata": {},
   "outputs": [
    {
     "output_type": "stream",
     "name": "stdout",
     "text": [
      "World\nWorld\n11\nWorld\nd\n"
     ]
    }
   ],
   "source": [
    "print(str5[6:11])\n",
    "print(str5[6:])\n",
    "print(len(str5))\n",
    "print(str5[6:len(str5)])\n",
    "print(str5[-1])"
   ]
  },
  {
   "cell_type": "code",
   "execution_count": 39,
   "metadata": {},
   "outputs": [
    {
     "output_type": "stream",
     "name": "stdout",
     "text": [
      "World\n"
     ]
    }
   ],
   "source": [
    "print(str5[-5:])"
   ]
  },
  {
   "cell_type": "code",
   "execution_count": 40,
   "metadata": {},
   "outputs": [
    {
     "output_type": "stream",
     "name": "stdout",
     "text": [
      "orld\n"
     ]
    }
   ],
   "source": [
    "#Hello World\n",
    "print(str5[7:])"
   ]
  },
  {
   "cell_type": "code",
   "execution_count": 41,
   "metadata": {},
   "outputs": [
    {
     "output_type": "execute_result",
     "data": {
      "text/plain": [
       "'Helli Wirld'"
      ]
     },
     "metadata": {},
     "execution_count": 41
    }
   ],
   "source": [
    "str5.replace('o', 'i')"
   ]
  },
  {
   "cell_type": "code",
   "execution_count": 42,
   "metadata": {},
   "outputs": [
    {
     "output_type": "execute_result",
     "data": {
      "text/plain": [
       "'Hello World'"
      ]
     },
     "metadata": {},
     "execution_count": 42
    }
   ],
   "source": [
    "str5.title()"
   ]
  },
  {
   "cell_type": "code",
   "execution_count": 43,
   "metadata": {},
   "outputs": [],
   "source": [
    "str6 = 'hello world'"
   ]
  },
  {
   "cell_type": "code",
   "execution_count": 44,
   "metadata": {},
   "outputs": [
    {
     "output_type": "execute_result",
     "data": {
      "text/plain": [
       "'Hello world'"
      ]
     },
     "metadata": {},
     "execution_count": 44
    }
   ],
   "source": [
    "str6.capitalize()"
   ]
  },
  {
   "cell_type": "code",
   "execution_count": 45,
   "metadata": {},
   "outputs": [
    {
     "output_type": "execute_result",
     "data": {
      "text/plain": [
       "'Hello World'"
      ]
     },
     "metadata": {},
     "execution_count": 45
    }
   ],
   "source": [
    "str6.title()"
   ]
  },
  {
   "cell_type": "code",
   "execution_count": 46,
   "metadata": {},
   "outputs": [
    {
     "output_type": "execute_result",
     "data": {
      "text/plain": [
       "('hello w', 'o', 'rld')"
      ]
     },
     "metadata": {},
     "execution_count": 46
    }
   ],
   "source": [
    "str6.rpartition('o')"
   ]
  },
  {
   "cell_type": "code",
   "execution_count": 47,
   "metadata": {},
   "outputs": [
    {
     "output_type": "execute_result",
     "data": {
      "text/plain": [
       "7"
      ]
     },
     "metadata": {},
     "execution_count": 47
    }
   ],
   "source": [
    "str6.index('o', 5, len(str6))"
   ]
  },
  {
   "cell_type": "code",
   "execution_count": 48,
   "metadata": {},
   "outputs": [
    {
     "output_type": "stream",
     "name": "stdout",
     "text": [
      "'a' not found\n"
     ]
    }
   ],
   "source": [
    "searchstr = 'a'\n",
    "try: \n",
    "    str6.index(searchstr, 5, len(str6))\n",
    "except:\n",
    "    print('\\'' + searchstr + '\\' not found')"
   ]
  },
  {
   "cell_type": "code",
   "execution_count": null,
   "metadata": {},
   "outputs": [],
   "source": []
  }
 ],
 "metadata": {
  "kernelspec": {
   "display_name": "Python 3",
   "language": "python",
   "name": "python3"
  },
  "language_info": {
   "codemirror_mode": {
    "name": "ipython",
    "version": 3
   },
   "file_extension": ".py",
   "mimetype": "text/x-python",
   "name": "python",
   "nbconvert_exporter": "python",
   "pygments_lexer": "ipython3",
   "version": "3.8.5-final"
  }
 },
 "nbformat": 4,
 "nbformat_minor": 4
}