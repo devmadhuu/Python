{
 "cells": [
  {
   "cell_type": "code",
   "execution_count": 12,
   "metadata": {},
   "outputs": [],
   "source": [
    "# # name@\n",
    "# # name_\n",
    "# # name$\n",
    "class test:\n",
    "    def sum(self):\n",
    "        return 10+5\n",
    "# Class"
   ]
  },
  {
   "cell_type": "code",
   "execution_count": 13,
   "metadata": {},
   "outputs": [
    {
     "data": {
      "text/plain": [
       "15"
      ]
     },
     "execution_count": 13,
     "metadata": {},
     "output_type": "execute_result"
    }
   ],
   "source": [
    "test1 = test()\n",
    "test1.sum()"
   ]
  },
  {
   "cell_type": "code",
   "execution_count": 23,
   "metadata": {},
   "outputs": [
    {
     "name": "stdout",
     "output_type": "stream",
     "text": [
      "jgjhgjh <class 'str'>\n",
      "10 <class 'int'>\n",
      "10.2 <class 'float'>\n",
      "(3+4j) <class 'complex'>\n",
      "real: 3.0\n",
      "imaginery:  4.0\n",
      "Hello World Devesh\n"
     ]
    }
   ],
   "source": [
    "str1='''jgjhgjh'''\n",
    "n1=10\n",
    "n2=10.2\n",
    "complextype = 3+4j\n",
    "print (str1, type(str1))\n",
    "print(n1, type(n1))\n",
    "print(n2, type(n2))\n",
    "print(complextype, type(complextype))\n",
    "print('real:', complextype.real)\n",
    "print('imaginery: ', complextype.imag)\n",
    "print(\"Hello World {}\".format(\"Devesh\"))"
   ]
  },
  {
   "cell_type": "code",
   "execution_count": 28,
   "metadata": {},
   "outputs": [
    {
     "name": "stdout",
     "output_type": "stream",
     "text": [
      "True\n",
      "True\n",
      "False\n",
      "True\n",
      "False\n"
     ]
    }
   ],
   "source": [
    "print(isinstance(n1, int))\n",
    "print(isinstance(n2, float))\n",
    "print(isinstance(n2, complex))\n",
    "print(isinstance(complextype, complex))\n",
    "print(isinstance(print, int))"
   ]
  },
  {
   "cell_type": "code",
   "execution_count": 33,
   "metadata": {},
   "outputs": [],
   "source": [
    "newstr = 'this is python\\'s class'"
   ]
  },
  {
   "cell_type": "code",
   "execution_count": 34,
   "metadata": {},
   "outputs": [
    {
     "name": "stdout",
     "output_type": "stream",
     "text": [
      "this is python's class\n"
     ]
    }
   ],
   "source": [
    "print(newstr)"
   ]
  },
  {
   "cell_type": "code",
   "execution_count": 36,
   "metadata": {},
   "outputs": [
    {
     "name": "stdout",
     "output_type": "stream",
     "text": [
      "\"new quotes\"\n"
     ]
    }
   ],
   "source": [
    "quotestr = '\"new quotes\"'\n",
    "print(quotestr)"
   ]
  },
  {
   "cell_type": "code",
   "execution_count": 39,
   "metadata": {},
   "outputs": [
    {
     "name": "stdout",
     "output_type": "stream",
     "text": [
      "this is first line \n",
      "this is 2nd line\n"
     ]
    }
   ],
   "source": [
    "print('this is first line \\nthis is 2nd line')"
   ]
  },
  {
   "cell_type": "code",
   "execution_count": 40,
   "metadata": {},
   "outputs": [
    {
     "name": "stdout",
     "output_type": "stream",
     "text": [
      "slash\\\n"
     ]
    }
   ],
   "source": [
    "print('slash\\\\')"
   ]
  },
  {
   "cell_type": "code",
   "execution_count": 42,
   "metadata": {},
   "outputs": [
    {
     "name": "stdout",
     "output_type": "stream",
     "text": [
      "6\n"
     ]
    }
   ],
   "source": [
    "print(sum([1,2,3]))"
   ]
  },
  {
   "cell_type": "code",
   "execution_count": 47,
   "metadata": {},
   "outputs": [
    {
     "name": "stdout",
     "output_type": "stream",
     "text": [
      "True\n"
     ]
    }
   ],
   "source": [
    "print(isinstance(sum([1,2,3]), int))"
   ]
  },
  {
   "cell_type": "code",
   "execution_count": 49,
   "metadata": {},
   "outputs": [
    {
     "name": "stdout",
     "output_type": "stream",
     "text": [
      "d\n",
      "d\n"
     ]
    }
   ],
   "source": [
    "str5 = \"Hello World\"\n",
    "print(str5[-1])\n",
    "print(str5[len(str5) - 1])"
   ]
  },
  {
   "cell_type": "code",
   "execution_count": 50,
   "metadata": {},
   "outputs": [
    {
     "name": "stdout",
     "output_type": "stream",
     "text": [
      "Hello\n",
      "Hello\n"
     ]
    }
   ],
   "source": [
    "print(str5[0:5])\n",
    "print(str5[:5])"
   ]
  },
  {
   "cell_type": "code",
   "execution_count": 54,
   "metadata": {},
   "outputs": [
    {
     "name": "stdout",
     "output_type": "stream",
     "text": [
      "World\n",
      "World\n",
      "World\n",
      "d\n"
     ]
    }
   ],
   "source": [
    "print(str5[6:12])\n",
    "print(str5[6:])\n",
    "print(str5[6:len(str5)])\n",
    "print(str5[-1])"
   ]
  },
  {
   "cell_type": "code",
   "execution_count": null,
   "metadata": {},
   "outputs": [],
   "source": []
  }
 ],
 "metadata": {
  "kernelspec": {
   "display_name": "Python 3",
   "language": "python",
   "name": "python3"
  },
  "language_info": {
   "codemirror_mode": {
    "name": "ipython",
    "version": 3
   },
   "file_extension": ".py",
   "mimetype": "text/x-python",
   "name": "python",
   "nbconvert_exporter": "python",
   "pygments_lexer": "ipython3",
   "version": "3.8.5"
  }
 },
 "nbformat": 4,
 "nbformat_minor": 4
}
